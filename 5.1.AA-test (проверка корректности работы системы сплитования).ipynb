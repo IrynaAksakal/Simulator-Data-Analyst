{
 "cells": [
  {
   "cell_type": "markdown",
   "id": "9c73bd9d",
   "metadata": {
    "tags": []
   },
   "source": [
    "# 5.1. Задача убедиться в том, что наша система сплитования работает корректно, и ключевая метрика не отличается между группами в нашем АА-тесте.\n",
    "У нас eсть данные АА-теста с '2022-09-26' по '2022-10-02' из 2 и 3 экспериментальной группы<br>\n",
    "<br>\n",
    "Что нужно сделать:   \n",
    "1. нужно сделать симуляцию, как будто мы провели 10000 АА-тестов.<br> \n",
    "* Бутстреп<br> \n",
    "* Бакетное преобразоование  <br> \n",
    "2. На каждой итерации нужно сформировать подвыборки без повторения в 500 юзеров <br>\n",
    "3. Провести сравнение этих подвыборок t-testом.<br>\n",
    "4. Построить гистограмму распределения получившихся 10000 p-values.<br>\n",
    "4. Посчитать, какой процент p-values оказался меньше либо равен 0.05<br>\n",
    "6. Написать вывод по проведенному АА-тесту, корректно ли работает наша система сплитования."
   ]
  },
  {
   "cell_type": "code",
   "execution_count": 1,
   "id": "e15a49b7-81ae-4740-9030-bde269a5626f",
   "metadata": {},
   "outputs": [],
   "source": [
    "import pandahouse as ph\n",
    "import pandas as pd\n",
    "import numpy as np\n",
    "import seaborn as sns\n",
    "\n",
    "from scipy import stats"
   ]
  },
  {
   "cell_type": "code",
   "execution_count": 2,
   "id": "30705ccd-714b-4552-9131-59370faadfc3",
   "metadata": {},
   "outputs": [],
   "source": [
    "connection = {'host': 'https://clickhouse.lab.karpov.courses',\n",
    "              'database':'simulator_20221020',\n",
    "              'user':'student', \n",
    "              'password':'dpo_python_2020'\n",
    "             }"
   ]
  },
  {
   "cell_type": "code",
   "execution_count": 3,
   "id": "5df7da91",
   "metadata": {},
   "outputs": [],
   "source": [
    "# выгружаю данные из clickhouse в датафрейм по группе 2 и 3 за период с '2022-09-26' по '2022-10-02'\n",
    "q = '''\n",
    "SELECT  exp_group, \n",
    "        user_id,\n",
    "        sum(action = 'like') as likes,\n",
    "        sum(action = 'view') as views,\n",
    "        (likes / views) as ctr\n",
    "FROM {db}.feed_actions\n",
    "WHERE toDate(time) BETWEEN '2022-09-26' and '2022-10-02' \n",
    "      AND exp_group in (2,3)\n",
    "GROUP BY exp_group, user_id      \n",
    "'''\n",
    "\n",
    "df = ph.read_clickhouse(q, connection = connection)"
   ]
  },
  {
   "cell_type": "code",
   "execution_count": 4,
   "id": "720682fb",
   "metadata": {},
   "outputs": [
    {
     "data": {
      "text/html": [
       "<div>\n",
       "<style scoped>\n",
       "    .dataframe tbody tr th:only-of-type {\n",
       "        vertical-align: middle;\n",
       "    }\n",
       "\n",
       "    .dataframe tbody tr th {\n",
       "        vertical-align: top;\n",
       "    }\n",
       "\n",
       "    .dataframe thead th {\n",
       "        text-align: right;\n",
       "    }\n",
       "</style>\n",
       "<table border=\"1\" class=\"dataframe\">\n",
       "  <thead>\n",
       "    <tr style=\"text-align: right;\">\n",
       "      <th></th>\n",
       "      <th>exp_group</th>\n",
       "      <th>user_id</th>\n",
       "      <th>likes</th>\n",
       "      <th>views</th>\n",
       "      <th>ctr</th>\n",
       "    </tr>\n",
       "  </thead>\n",
       "  <tbody>\n",
       "    <tr>\n",
       "      <th>0</th>\n",
       "      <td>3</td>\n",
       "      <td>115383</td>\n",
       "      <td>11</td>\n",
       "      <td>36</td>\n",
       "      <td>0.305556</td>\n",
       "    </tr>\n",
       "    <tr>\n",
       "      <th>1</th>\n",
       "      <td>3</td>\n",
       "      <td>123580</td>\n",
       "      <td>15</td>\n",
       "      <td>92</td>\n",
       "      <td>0.163043</td>\n",
       "    </tr>\n",
       "    <tr>\n",
       "      <th>2</th>\n",
       "      <td>2</td>\n",
       "      <td>131473</td>\n",
       "      <td>26</td>\n",
       "      <td>148</td>\n",
       "      <td>0.175676</td>\n",
       "    </tr>\n",
       "    <tr>\n",
       "      <th>3</th>\n",
       "      <td>2</td>\n",
       "      <td>23985</td>\n",
       "      <td>12</td>\n",
       "      <td>66</td>\n",
       "      <td>0.181818</td>\n",
       "    </tr>\n",
       "    <tr>\n",
       "      <th>4</th>\n",
       "      <td>2</td>\n",
       "      <td>24523</td>\n",
       "      <td>17</td>\n",
       "      <td>120</td>\n",
       "      <td>0.141667</td>\n",
       "    </tr>\n",
       "  </tbody>\n",
       "</table>\n",
       "</div>"
      ],
      "text/plain": [
       "   exp_group  user_id  likes  views       ctr\n",
       "0          3   115383     11     36  0.305556\n",
       "1          3   123580     15     92  0.163043\n",
       "2          2   131473     26    148  0.175676\n",
       "3          2    23985     12     66  0.181818\n",
       "4          2    24523     17    120  0.141667"
      ]
     },
     "execution_count": 4,
     "metadata": {},
     "output_type": "execute_result"
    }
   ],
   "source": [
    "df.head()"
   ]
  },
  {
   "cell_type": "markdown",
   "id": "ab9aae25",
   "metadata": {},
   "source": [
    "### 5.1.1. Проверяем (в целом) корректно ли разбиты пользователи на группы\n",
    "Если пользователи разбиты корректно, должно выполняться два условия:  <br>\n",
    "1.1. размеры групп должны быть примерно одинаковые<br> \n",
    "1.2. показатели в них самих сами по себе не должны различаться  <br>"
   ]
  },
  {
   "cell_type": "code",
   "execution_count": 5,
   "id": "f53621ba",
   "metadata": {},
   "outputs": [
    {
     "data": {
      "text/html": [
       "<div>\n",
       "<style scoped>\n",
       "    .dataframe tbody tr th:only-of-type {\n",
       "        vertical-align: middle;\n",
       "    }\n",
       "\n",
       "    .dataframe tbody tr th {\n",
       "        vertical-align: top;\n",
       "    }\n",
       "\n",
       "    .dataframe thead tr th {\n",
       "        text-align: left;\n",
       "    }\n",
       "</style>\n",
       "<table border=\"1\" class=\"dataframe\">\n",
       "  <thead>\n",
       "    <tr>\n",
       "      <th></th>\n",
       "      <th>exp_group</th>\n",
       "      <th colspan=\"2\" halign=\"left\">ctr</th>\n",
       "    </tr>\n",
       "    <tr>\n",
       "      <th></th>\n",
       "      <th></th>\n",
       "      <th>count</th>\n",
       "      <th>mean</th>\n",
       "    </tr>\n",
       "  </thead>\n",
       "  <tbody>\n",
       "    <tr>\n",
       "      <th>0</th>\n",
       "      <td>2</td>\n",
       "      <td>8480</td>\n",
       "      <td>0.218246</td>\n",
       "    </tr>\n",
       "    <tr>\n",
       "      <th>1</th>\n",
       "      <td>3</td>\n",
       "      <td>8569</td>\n",
       "      <td>0.219161</td>\n",
       "    </tr>\n",
       "  </tbody>\n",
       "</table>\n",
       "</div>"
      ],
      "text/plain": [
       "  exp_group   ctr          \n",
       "            count      mean\n",
       "0         2  8480  0.218246\n",
       "1         3  8569  0.219161"
      ]
     },
     "execution_count": 5,
     "metadata": {},
     "output_type": "execute_result"
    }
   ],
   "source": [
    "# 1.1.смотрю количество пользователей в каждой группе - размеры групп примерно одинаковые  \n",
    "# 1.2. средние значения CTR также приблизительно одинаковые  - различия в третьем знаке после запятой\n",
    "df.groupby('exp_group', as_index = False).agg({'ctr': ['count', 'mean']})"
   ]
  },
  {
   "cell_type": "code",
   "execution_count": 6,
   "id": "bda10d1d",
   "metadata": {},
   "outputs": [],
   "source": [
    "# 1.2. строим график ctr в целом для двух групп, \n",
    "# чтобы сначала сравнить в целом не различаются ли показатели ctr в двух группах\n",
    "\n",
    "#делаем график в seaborn покрупнее\n",
    "sns.set(rc={'figure.figsize': (12, 9)})"
   ]
  },
  {
   "cell_type": "code",
   "execution_count": 7,
   "id": "5988e9d8",
   "metadata": {},
   "outputs": [
    {
     "data": {
      "image/png": "[encoded data removed]",
      "text/plain": [
       "<Figure size 864x648 with 1 Axes>"
      ]
     },
     "metadata": {},
     "output_type": "display_data"
    }
   ],
   "source": [
    "groups = sns.histplot(data = df,\n",
    "                     x = 'ctr', \n",
    "                     hue = 'exp_group',\n",
    "                     palette = ['g', 'r'],\n",
    "                     alpha = 0.5,\n",
    "                     kde = True) \n",
    "\n",
    "# на глаз кажется, что в целом распределение ctr в двух выборках похоже"
   ]
  },
  {
   "cell_type": "code",
   "execution_count": 8,
   "id": "f8ae1df9",
   "metadata": {},
   "outputs": [
    {
     "name": "stdout",
     "output_type": "stream",
     "text": [
      "Всего пользователей в обеих группах:  17049\n",
      "\n"
     ]
    },
    {
     "name": "stderr",
     "output_type": "stream",
     "text": [
      "/tmp/ipykernel_238/1682808531.py:5: UserWarning: Pandas doesn't allow columns to be created via a new attribute name - see https://pandas.pydata.org/pandas-docs/stable/indexing.html#attribute-access\n",
      "  df.uniq = df.groupby('user_id')['exp_group'].nunique().reset_index()\n"
     ]
    },
    {
     "data": {
      "text/plain": [
       "exp_group\n",
       "1    17049\n",
       "Name: user_id, dtype: int64"
      ]
     },
     "execution_count": 8,
     "metadata": {},
     "output_type": "execute_result"
    }
   ],
   "source": [
    "# проверяю, чтобы один и тот же id не попал в разные группы \n",
    "\n",
    "print('Всего пользователей в обеих группах: ', df.user_id.count())\n",
    "print()\n",
    "df.uniq = df.groupby('user_id')['exp_group'].nunique().reset_index()\n",
    "df.uniq.groupby('exp_group').user_id.count()\n",
    "\n",
    "# каждый id попал только в 1 группу"
   ]
  },
  {
   "cell_type": "markdown",
   "id": "86a36236",
   "metadata": {},
   "source": [
    "### 5.1.2. Делаю симуляцию, как будто мы провели 10000 АА-тестов с помощью бутстреп"
   ]
  },
  {
   "cell_type": "markdown",
   "id": "b92e8f09",
   "metadata": {},
   "source": [
    "БУТСТРЕП - план действий: \n",
    "1. сформировать 10 тыс подвыборок без повторения в 500 юзеров для каждой выборки (2,3)\n",
    "2. Провести сравнение этих подвыборок t-testом\n",
    "3. Построить гистограмму распределения получившихся 10000 p-values\n",
    "\n",
    "4. Посчитать, какой процент p-values оказался меньше либо равен 0.05. <br>\n",
    "проверить гипотезы:  <br>\n",
    "Н0: средний CTR в группе 2 = средниему CTR в группе 3  <br>\n",
    "Н1: средний CTR в группе 2 != средний CTR в группе 3 (т.е. p-value < 0.05) <br>\n",
    "\n",
    "5. Написать вывод по проведенному АА-тесту, корректно ли работает наша система сплитования."
   ]
  },
  {
   "cell_type": "code",
   "execution_count": 9,
   "id": "158e8db6",
   "metadata": {},
   "outputs": [
    {
     "name": "stdout",
     "output_type": "stream",
     "text": [
      "В  4.54 % случаев p-values оказался меньше либо равен 0.05\n"
     ]
    }
   ],
   "source": [
    "p_count = 0 # счетчик, какой % p-value меньше либо равен 0.05 \n",
    "n = 10000 #количество подвыборок \n",
    "result = [] #сохраняем pvalue в список\n",
    "\n",
    "for _ in range(n): # количество подвыборок = 10 тыс + столько же раз считаем p-value    \n",
    "    \n",
    "    #считаю pvalue в подвыборках\n",
    "    pvalue = stats.ttest_ind( df[df.exp_group == 2].ctr.sample(500, replace = False), \n",
    "                             df[df.exp_group == 3].ctr.sample(500, replace = False),\n",
    "                             equal_var = False)\n",
    "  \n",
    "    result.append(pvalue[1])\n",
    "    \n",
    "    #считаю сколько раз p-values оказался меньше либо равен 0.05\n",
    "    if pvalue[1] <= 0.05:\n",
    "        p_count += 1\n",
    "          \n",
    "print('В ', p_count / n * 100, '% случаев p-values оказался меньше либо равен 0.05')\n",
    "#print(result)"
   ]
  },
  {
   "cell_type": "code",
   "execution_count": 10,
   "id": "378ab290",
   "metadata": {},
   "outputs": [
    {
     "data": {
      "text/html": [
       "<div>\n",
       "<style scoped>\n",
       "    .dataframe tbody tr th:only-of-type {\n",
       "        vertical-align: middle;\n",
       "    }\n",
       "\n",
       "    .dataframe tbody tr th {\n",
       "        vertical-align: top;\n",
       "    }\n",
       "\n",
       "    .dataframe thead th {\n",
       "        text-align: right;\n",
       "    }\n",
       "</style>\n",
       "<table border=\"1\" class=\"dataframe\">\n",
       "  <thead>\n",
       "    <tr style=\"text-align: right;\">\n",
       "      <th></th>\n",
       "      <th>pvalue</th>\n",
       "    </tr>\n",
       "  </thead>\n",
       "  <tbody>\n",
       "    <tr>\n",
       "      <th>0</th>\n",
       "      <td>0.940848</td>\n",
       "    </tr>\n",
       "    <tr>\n",
       "      <th>1</th>\n",
       "      <td>0.963924</td>\n",
       "    </tr>\n",
       "    <tr>\n",
       "      <th>2</th>\n",
       "      <td>0.743654</td>\n",
       "    </tr>\n",
       "    <tr>\n",
       "      <th>3</th>\n",
       "      <td>0.605741</td>\n",
       "    </tr>\n",
       "    <tr>\n",
       "      <th>4</th>\n",
       "      <td>0.981025</td>\n",
       "    </tr>\n",
       "  </tbody>\n",
       "</table>\n",
       "</div>"
      ],
      "text/plain": [
       "     pvalue\n",
       "0  0.940848\n",
       "1  0.963924\n",
       "2  0.743654\n",
       "3  0.605741\n",
       "4  0.981025"
      ]
     },
     "execution_count": 10,
     "metadata": {},
     "output_type": "execute_result"
    }
   ],
   "source": [
    "# сохранила результаты полученных pvalues в датафрейм\n",
    "df_pvalues = pd.DataFrame(result, columns = ['pvalue'])\n",
    "df_pvalues.head()"
   ]
  },
  {
   "cell_type": "code",
   "execution_count": 11,
   "id": "db56ef4f",
   "metadata": {},
   "outputs": [
    {
     "data": {
      "text/plain": [
       "<AxesSubplot:ylabel='Count'>"
      ]
     },
     "execution_count": 11,
     "metadata": {},
     "output_type": "execute_result"
    },
    {
     "data": {
      "image/png": "[encoded data removed]",
      "text/plain": [
       "<Figure size 864x648 with 1 Axes>"
      ]
     },
     "metadata": {},
     "output_type": "display_data"
    }
   ],
   "source": [
    "# строим график в seaborn рассчитанных p-values\n",
    "sns.histplot(df_pvalues, kde = False)\n",
    "\n",
    "# распределение рассчитанных p-values похоже на равномерное\n",
    "# на гистограмме видно, что из 10 тыс раз p-values оказался меньше либо равен 0.05 менее чем 500 раз\n",
    "# не пищу понкретную цифру, тк каждый раз при запуске ячейки с бутсрепом и рассчетом p-values, \n",
    "# количество меняется, но при этом никогда не превышает 5%"
   ]
  },
  {
   "cell_type": "markdown",
   "id": "49df2e67-77d5-4098-9598-987e762b9a33",
   "metadata": {},
   "source": [
    "### Вывод по результатам АА теста: наша система сплитования работает корректно.  <br>\n",
    "Группы, на которые мы побили пользователей (а именно 2 и 3), еще до того, как не выкатили на них новую функциональность, не отличаются друг от друга, а именно: <br>\n",
    "1. размеры групп примерно одинаковые  \n",
    "2. менее чем в 5% случаев p-values оказался меньше либо равен 0.05. \n",
    "Т.е. из 10000 АА-тестов, проведенных путем формирования подвыборок без повторения в 500 юзеров из 2 и 3 экспериментальной группы, тест прокрасился менее чем в 5% случаев. Поэтому считаю, что показатели CTR в контрольной и тестовой группах не различаются.<br><br>\n",
    "\n",
    "Система сплитования работает корректно."
   ]
  }
 ],
 "metadata": {
  "kernelspec": {
   "display_name": "Python 3 (ipykernel)",
   "language": "python",
   "name": "python3"
  },
  "language_info": {
   "codemirror_mode": {
    "name": "ipython",
    "version": 3
   },
   "file_extension": ".py",
   "mimetype": "text/x-python",
   "name": "python",
   "nbconvert_exporter": "python",
   "pygments_lexer": "ipython3",
   "version": "3.9.13"
  }
 },
 "nbformat": 4,
 "nbformat_minor": 5
}
