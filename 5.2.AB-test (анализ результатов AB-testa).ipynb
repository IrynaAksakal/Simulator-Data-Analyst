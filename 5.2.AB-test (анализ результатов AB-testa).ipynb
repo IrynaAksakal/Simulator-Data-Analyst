{
 "cells": [
  {
   "cell_type": "markdown",
   "id": "e72632e2",
   "metadata": {},
   "source": [
    "## 5.2 Проанализировать результаты эксперимента, который провели вместе с командой дата сайентистов.\n",
    "* Эксперимент проходил с 2022-10-03 по 2022-10-09 включительно. <br>\n",
    "* Для эксперимента были задействованы 2 и 1 группы. <br>   \n",
    "\n",
    "В группе 2 был использован один из новых алгоритмов рекомендации постов, группа 1 использовалась в качестве контроля.<br>\n",
    "##### Основная гипотеза заключается в том, что новый алгоритм во 2-й группе приведет к увеличению CTR.<br> "
   ]
  },
  {
   "cell_type": "markdown",
   "id": "02c1283d-9b40-4664-9465-0adeb7344667",
   "metadata": {},
   "source": [
    "### Задача — проанализировать данные АB-теста.\n",
    "1. Провести анализ всеми разобраннымив уроке тестами и сравнить CTR в двух группах:<br>\n",
    "* t-тест, <br>\n",
    "* Пуассоновский бутстреп, <br>\n",
    "* тест Манна-Уитни, <br>\n",
    "* t-тест на сглаженном ctr (α=5) <br>\n",
    "* t-тест и тест Манна-Уитни поверх бакетного преобразования.<br>\n",
    "2. Посмотреть на распределения глазами. <br>\n",
    "4. Ответить на вопрос: Почему тесты сработали так как сработали? <br>\n",
    "5. Опишите потенциальную ситуацию, когда такое изменение могло произойти.<br>\n",
    "Тут нет идеального ответа, подумайте.<br>\n",
    "6. Напишите рекомендацию, будем ли мы раскатывать новый алгоритм на всех новых пользователей или все-таки не стоит."
   ]
  },
  {
   "cell_type": "code",
   "execution_count": 1,
   "id": "f5f6f95c-950b-4abf-bda7-10877b2d268f",
   "metadata": {},
   "outputs": [],
   "source": [
    "import pandahouse as ph\n",
    "import pandas as pd\n",
    "import numpy as np\n",
    "import seaborn as sns\n",
    "\n",
    "from scipy import stats\n",
    "\n",
    "#для расчета доверительного интервала sms.DescrStatsW(df_group[column]).tconfint_mean()\n",
    "import statsmodels.stats.api as sms \n",
    "import matplotlib.pyplot as plt\n",
    "from scipy.stats import t\n",
    "\n",
    "import warnings # игнорирую предупреждения системы об грядущих изменениях\n",
    "warnings.simplefilter('ignore')"
   ]
  },
  {
   "cell_type": "code",
   "execution_count": 2,
   "id": "e6f74021-92ab-4aeb-bbcb-e25f21cb3658",
   "metadata": {},
   "outputs": [],
   "source": [
    "connection = {'host': 'https://clickhouse.lab.karpov.courses',\n",
    "              'database':'simulator_20221020',\n",
    "              'user':'student', \n",
    "              'password':'dpo_python_2020'\n",
    "             }"
   ]
  },
  {
   "cell_type": "code",
   "execution_count": 3,
   "id": "4d2eb7d7",
   "metadata": {},
   "outputs": [],
   "source": [
    "# выгружаю данные\n",
    "q = '''\n",
    "    SELECT exp_group,\n",
    "           user_id, \n",
    "           sum(action = 'like') as likes,\n",
    "           sum(action = 'view') as views,\n",
    "           (likes / views) as ctr      \n",
    "    FROM {db}.feed_actions\n",
    "    WHERE toDate(time) BETWEEN '2022-10-03' and '2022-10-09'\n",
    "    AND exp_group in (1, 2)\n",
    "    GROUP BY  exp_group, user_id\n",
    "    '''\n",
    "df_ab = ph.read_clickhouse(q, connection = connection)"
   ]
  },
  {
   "cell_type": "code",
   "execution_count": 4,
   "id": "c52951bf",
   "metadata": {},
   "outputs": [
    {
     "data": {
      "text/html": [
       "<div>\n",
       "<style scoped>\n",
       "    .dataframe tbody tr th:only-of-type {\n",
       "        vertical-align: middle;\n",
       "    }\n",
       "\n",
       "    .dataframe tbody tr th {\n",
       "        vertical-align: top;\n",
       "    }\n",
       "\n",
       "    .dataframe thead th {\n",
       "        text-align: right;\n",
       "    }\n",
       "</style>\n",
       "<table border=\"1\" class=\"dataframe\">\n",
       "  <thead>\n",
       "    <tr style=\"text-align: right;\">\n",
       "      <th></th>\n",
       "      <th>exp_group</th>\n",
       "      <th>user_id</th>\n",
       "      <th>likes</th>\n",
       "      <th>views</th>\n",
       "      <th>ctr</th>\n",
       "    </tr>\n",
       "  </thead>\n",
       "  <tbody>\n",
       "    <tr>\n",
       "      <th>0</th>\n",
       "      <td>1</td>\n",
       "      <td>109963</td>\n",
       "      <td>3</td>\n",
       "      <td>15</td>\n",
       "      <td>0.200000</td>\n",
       "    </tr>\n",
       "    <tr>\n",
       "      <th>1</th>\n",
       "      <td>1</td>\n",
       "      <td>26117</td>\n",
       "      <td>32</td>\n",
       "      <td>141</td>\n",
       "      <td>0.226950</td>\n",
       "    </tr>\n",
       "    <tr>\n",
       "      <th>2</th>\n",
       "      <td>1</td>\n",
       "      <td>138232</td>\n",
       "      <td>18</td>\n",
       "      <td>73</td>\n",
       "      <td>0.246575</td>\n",
       "    </tr>\n",
       "    <tr>\n",
       "      <th>3</th>\n",
       "      <td>1</td>\n",
       "      <td>26295</td>\n",
       "      <td>33</td>\n",
       "      <td>122</td>\n",
       "      <td>0.270492</td>\n",
       "    </tr>\n",
       "    <tr>\n",
       "      <th>4</th>\n",
       "      <td>1</td>\n",
       "      <td>18392</td>\n",
       "      <td>7</td>\n",
       "      <td>32</td>\n",
       "      <td>0.218750</td>\n",
       "    </tr>\n",
       "  </tbody>\n",
       "</table>\n",
       "</div>"
      ],
      "text/plain": [
       "   exp_group  user_id  likes  views       ctr\n",
       "0          1   109963      3     15  0.200000\n",
       "1          1    26117     32    141  0.226950\n",
       "2          1   138232     18     73  0.246575\n",
       "3          1    26295     33    122  0.270492\n",
       "4          1    18392      7     32  0.218750"
      ]
     },
     "execution_count": 4,
     "metadata": {},
     "output_type": "execute_result"
    }
   ],
   "source": [
    "df_ab.head()"
   ]
  },
  {
   "cell_type": "code",
   "execution_count": 5,
   "id": "33795f31",
   "metadata": {},
   "outputs": [
    {
     "data": {
      "text/html": [
       "<div>\n",
       "<style scoped>\n",
       "    .dataframe tbody tr th:only-of-type {\n",
       "        vertical-align: middle;\n",
       "    }\n",
       "\n",
       "    .dataframe tbody tr th {\n",
       "        vertical-align: top;\n",
       "    }\n",
       "\n",
       "    .dataframe thead th {\n",
       "        text-align: right;\n",
       "    }\n",
       "</style>\n",
       "<table border=\"1\" class=\"dataframe\">\n",
       "  <thead>\n",
       "    <tr style=\"text-align: right;\">\n",
       "      <th></th>\n",
       "      <th>user_id</th>\n",
       "      <th>likes</th>\n",
       "      <th>views</th>\n",
       "      <th>ctr</th>\n",
       "    </tr>\n",
       "    <tr>\n",
       "      <th>exp_group</th>\n",
       "      <th></th>\n",
       "      <th></th>\n",
       "      <th></th>\n",
       "      <th></th>\n",
       "    </tr>\n",
       "  </thead>\n",
       "  <tbody>\n",
       "    <tr>\n",
       "      <th>1</th>\n",
       "      <td>10079</td>\n",
       "      <td>10079</td>\n",
       "      <td>10079</td>\n",
       "      <td>10079</td>\n",
       "    </tr>\n",
       "    <tr>\n",
       "      <th>2</th>\n",
       "      <td>9952</td>\n",
       "      <td>9952</td>\n",
       "      <td>9952</td>\n",
       "      <td>9952</td>\n",
       "    </tr>\n",
       "  </tbody>\n",
       "</table>\n",
       "</div>"
      ],
      "text/plain": [
       "           user_id  likes  views    ctr\n",
       "exp_group                              \n",
       "1            10079  10079  10079  10079\n",
       "2             9952   9952   9952   9952"
      ]
     },
     "execution_count": 5,
     "metadata": {},
     "output_type": "execute_result"
    }
   ],
   "source": [
    "# проверяем размеры групп - размеры групп примерно одинаковые\n",
    "df_ab.groupby('exp_group').count()"
   ]
  },
  {
   "cell_type": "code",
   "execution_count": 6,
   "id": "1540dac5",
   "metadata": {},
   "outputs": [
    {
     "name": "stdout",
     "output_type": "stream",
     "text": [
      "Всего пользователей в 2 группах группах:  20031\n",
      "\n"
     ]
    },
    {
     "data": {
      "text/plain": [
       "exp_group\n",
       "1    20031\n",
       "Name: user_id, dtype: int64"
      ]
     },
     "execution_count": 6,
     "metadata": {},
     "output_type": "execute_result"
    }
   ],
   "source": [
    "# проверяю, чтобы один и тот же id не попал в разные группы \n",
    "\n",
    "print('Всего пользователей в 2 группах группах: ', df_ab.user_id.count())\n",
    "print()\n",
    "df_ab.uniq = df_ab.groupby('user_id')['exp_group'].nunique().reset_index()\n",
    "df_ab.uniq.groupby('exp_group').user_id.count()\n",
    "\n",
    "# каждый id попал только в 1 группу"
   ]
  },
  {
   "cell_type": "code",
   "execution_count": 7,
   "id": "108c3bb3",
   "metadata": {},
   "outputs": [
    {
     "data": {
      "text/plain": [
       "<AxesSubplot:xlabel='ctr', ylabel='Count'>"
      ]
     },
     "execution_count": 7,
     "metadata": {},
     "output_type": "execute_result"
    },
    {
     "data": {
      "image/png": "[encoded data removed]",
      "text/plain": [
       "<Figure size 864x648 with 1 Axes>"
      ]
     },
     "metadata": {},
     "output_type": "display_data"
    }
   ],
   "source": [
    "#строю график рааспределения CTR\n",
    "sns.set(rc={'figure.figsize': (12, 9)})\n",
    "\n",
    "sns.histplot(data = df_ab,\n",
    "            x = 'ctr',\n",
    "            hue = 'exp_group',\n",
    "            palette = ['b', 'g'],\n",
    "            alpha = 0.5,\n",
    "            kde = True)\n",
    "\n",
    "# распределение CTR в группе 2 имеет два горба !!!\n",
    "# распределение CTR в группе 1 имеет 1 пик и стремится к нормальному распределению"
   ]
  },
  {
   "cell_type": "markdown",
   "id": "3b05acda",
   "metadata": {},
   "source": [
    "#### Среднее, мода, медиана\n",
    "Среднее, мода и медиана в контрольной группе (№ 1) почти одинаковые  - отличия незначительные. <br>\n",
    "При этом в тестовой группе (№ 2) отличия между средним, модой и медианой значительные. <br><br>\n",
    "Средние значения в двух выборках отличаются незначительно. <br>\n",
    "А вот медиана и мода очень различаются:\n",
    "* при этом мода тестовой группы больше, чем мода контрольной группы, \n",
    "* а медиана тестовой группы меньше, чем медиана контрольной группы. <br>\n",
    "\n",
    "Это вызвано тем, что распределение ctr в тестовой группе имеет два горба (двумодальное), а в контрольной очень похоже на нормальное. <br>"
   ]
  },
  {
   "cell_type": "code",
   "execution_count": 8,
   "id": "51fc9065",
   "metadata": {},
   "outputs": [
    {
     "data": {
      "text/html": [
       "<div>\n",
       "<style scoped>\n",
       "    .dataframe tbody tr th:only-of-type {\n",
       "        vertical-align: middle;\n",
       "    }\n",
       "\n",
       "    .dataframe tbody tr th {\n",
       "        vertical-align: top;\n",
       "    }\n",
       "\n",
       "    .dataframe thead tr th {\n",
       "        text-align: left;\n",
       "    }\n",
       "</style>\n",
       "<table border=\"1\" class=\"dataframe\">\n",
       "  <thead>\n",
       "    <tr>\n",
       "      <th></th>\n",
       "      <th>exp_group</th>\n",
       "      <th colspan=\"3\" halign=\"left\">ctr</th>\n",
       "    </tr>\n",
       "    <tr>\n",
       "      <th></th>\n",
       "      <th></th>\n",
       "      <th>mean</th>\n",
       "      <th>mode</th>\n",
       "      <th>median</th>\n",
       "    </tr>\n",
       "  </thead>\n",
       "  <tbody>\n",
       "    <tr>\n",
       "      <th>0</th>\n",
       "      <td>1</td>\n",
       "      <td>0.215605</td>\n",
       "      <td>0.200000</td>\n",
       "      <td>0.203125</td>\n",
       "    </tr>\n",
       "    <tr>\n",
       "      <th>1</th>\n",
       "      <td>2</td>\n",
       "      <td>0.214419</td>\n",
       "      <td>0.333333</td>\n",
       "      <td>0.142857</td>\n",
       "    </tr>\n",
       "  </tbody>\n",
       "</table>\n",
       "</div>"
      ],
      "text/plain": [
       "  exp_group       ctr                    \n",
       "                 mean      mode    median\n",
       "0         1  0.215605  0.200000  0.203125\n",
       "1         2  0.214419  0.333333  0.142857"
      ]
     },
     "execution_count": 8,
     "metadata": {},
     "output_type": "execute_result"
    }
   ],
   "source": [
    "#смотрю среднее, моду, медиану в группaх\n",
    "df_ab.groupby('exp_group', as_index = False).agg({'ctr': ['mean', pd.Series.mode, 'median']})"
   ]
  },
  {
   "cell_type": "markdown",
   "id": "65dbc868",
   "metadata": {},
   "source": [
    "### 5.2.1 Сравниваю CTR в двух группах\n",
    "\n",
    "Проверяю 2 гипотезы: <br><br>\n",
    "Нулевая гипотеза Н0: М1 = М2 <br>\n",
    "Средние значения равны, значит различий между двумя выборками нет. <br><br>\n",
    "Альтернативная гипотеза Н1: М1 != М2 (pvalue < 0.05)<br>\n",
    "Средние значения НЕ равны. <br>"
   ]
  },
  {
   "cell_type": "markdown",
   "id": "4dd04e24",
   "metadata": {},
   "source": [
    "## t-тест"
   ]
  },
  {
   "cell_type": "code",
   "execution_count": 9,
   "id": "24331814",
   "metadata": {},
   "outputs": [
    {
     "data": {
      "text/html": [
       "<div>\n",
       "<style scoped>\n",
       "    .dataframe tbody tr th:only-of-type {\n",
       "        vertical-align: middle;\n",
       "    }\n",
       "\n",
       "    .dataframe tbody tr th {\n",
       "        vertical-align: top;\n",
       "    }\n",
       "\n",
       "    .dataframe thead th {\n",
       "        text-align: right;\n",
       "    }\n",
       "</style>\n",
       "<table border=\"1\" class=\"dataframe\">\n",
       "  <thead>\n",
       "    <tr style=\"text-align: right;\">\n",
       "      <th></th>\n",
       "      <th>statistic</th>\n",
       "      <th>p_value</th>\n",
       "    </tr>\n",
       "  </thead>\n",
       "  <tbody>\n",
       "    <tr>\n",
       "      <th>0</th>\n",
       "      <td>-0.709439</td>\n",
       "      <td>0.478062</td>\n",
       "    </tr>\n",
       "  </tbody>\n",
       "</table>\n",
       "</div>"
      ],
      "text/plain": [
       "   statistic   p_value\n",
       "0  -0.709439  0.478062"
      ]
     },
     "execution_count": 9,
     "metadata": {},
     "output_type": "execute_result"
    }
   ],
   "source": [
    "# ВАРИАНТ 1 в clickhouse\n",
    "# t-test clickhouse\n",
    "q = '''\n",
    "WITH welchTTest(ctr, exp_index) as ttest\n",
    "select tupleElement(ttest, 1) as statistic, tupleElement(ttest, 2) as p_value\n",
    "FROM (\n",
    "    SELECT exp_group, user_id, \n",
    "    CASE WHEN exp_group = 2 THEN 0 ELSE 1 END as exp_index,\n",
    "    sum(action = 'like') as likes,\n",
    "    sum(action = 'view') as views,\n",
    "    (likes / views) as ctr\n",
    "    FROM {db}.feed_actions\n",
    "    WHERE toDate(time) BETWEEN '2022-10-03' and '2022-10-09'\n",
    "          AND exp_group IN (1, 2)\n",
    "    GROUP BY exp_group, user_id\n",
    "    )\n",
    "'''\n",
    "df_clickhouse_ttest = ph.read_clickhouse(q, connection = connection)\n",
    "df_clickhouse_ttest"
   ]
  },
  {
   "cell_type": "code",
   "execution_count": 10,
   "id": "3ef7fc63",
   "metadata": {},
   "outputs": [
    {
     "data": {
      "text/plain": [
       "Ttest_indResult(statistic=-0.7094392041270486, pvalue=0.4780623130874935)"
      ]
     },
     "execution_count": 10,
     "metadata": {},
     "output_type": "execute_result"
    }
   ],
   "source": [
    "# ВАРИАНТ 2 в Python\n",
    "# t-test\n",
    "# считаю pvalue на двугорбом распределении выборки 2\n",
    "stats.ttest_ind( df_ab[df_ab.exp_group == 2].ctr,\n",
    "                df_ab[df_ab.exp_group == 1].ctr, \n",
    "                equal_var = False)"
   ]
  },
  {
   "cell_type": "markdown",
   "id": "c90949a5",
   "metadata": {},
   "source": [
    "#### Вывод по результатам  t-test\n",
    "По результатам  t-test получили pvalue=0.478062.<br> \n",
    "При  pvalue > 0.05 нужно сделать вывод, что у нас не достаточно оснований, чтобы отклонить нулевую гипотезу, из которой следует, что средние CTR двух выборок равны.<br> \n",
    "Ранее мною были рассчитаны средние значения тестовой и контрольной групп, которые практически равны и t-test это подтвердил: <br> \n",
    "среднее значение 1 группы = 0.215605\t<br> \n",
    "среднее значение 2 группы =\t0.214419"
   ]
  },
  {
   "cell_type": "markdown",
   "id": "6d427062",
   "metadata": {},
   "source": [
    "### тест Манна-Уитни\n",
    "Нулевая гипотеза Н0: Р(X > Y) = P(Y > X)<br>\n",
    "Альтернативная гипотеза Н1: Р(X > Y) != P(Y > X) (pvalue < 0.05)"
   ]
  },
  {
   "cell_type": "code",
   "execution_count": 11,
   "id": "4fdb39c1",
   "metadata": {},
   "outputs": [
    {
     "data": {
      "text/html": [
       "<div>\n",
       "<style scoped>\n",
       "    .dataframe tbody tr th:only-of-type {\n",
       "        vertical-align: middle;\n",
       "    }\n",
       "\n",
       "    .dataframe tbody tr th {\n",
       "        vertical-align: top;\n",
       "    }\n",
       "\n",
       "    .dataframe thead th {\n",
       "        text-align: right;\n",
       "    }\n",
       "</style>\n",
       "<table border=\"1\" class=\"dataframe\">\n",
       "  <thead>\n",
       "    <tr style=\"text-align: right;\">\n",
       "      <th></th>\n",
       "      <th>statistic</th>\n",
       "      <th>p_value</th>\n",
       "    </tr>\n",
       "  </thead>\n",
       "  <tbody>\n",
       "    <tr>\n",
       "      <th>0</th>\n",
       "      <td>43707009.5</td>\n",
       "      <td>1.769696e-13</td>\n",
       "    </tr>\n",
       "  </tbody>\n",
       "</table>\n",
       "</div>"
      ],
      "text/plain": [
       "    statistic       p_value\n",
       "0  43707009.5  1.769696e-13"
      ]
     },
     "execution_count": 11,
     "metadata": {},
     "output_type": "execute_result"
    }
   ],
   "source": [
    "# ВАРИАНТ 1 в clickhouse\n",
    "# Манн Уитни clickhouse\n",
    "\n",
    "q  = '''\n",
    "WITH mannWhitneyUTest('two-sided')(ctr, exp_index) as mw\n",
    "SELECT tupleElement(mw, 1) as statistic, tupleElement(mw, 2) as p_value\n",
    "FROM (\n",
    "    SELECT exp_group, user_id,\n",
    "    CASE WHEN exp_group = 2 THEN 0 ELSE 1 END as exp_index,\n",
    "    sum(action = 'like') as likes,\n",
    "    sum(action = 'view') as views,\n",
    "    (likes / views) as ctr \n",
    "    FROM {db}.feed_actions\n",
    "    WHERE toDate(time) BETWEEN '2022-10-03' and '2022-10-09'\n",
    "          AND exp_group IN (1, 2)\n",
    "    GROUP BY user_id, exp_group\n",
    "    )\n",
    "    '''\n",
    "df_clickhouse_mw = ph.read_clickhouse(q, connection = connection)\n",
    "df_clickhouse_mw"
   ]
  },
  {
   "cell_type": "code",
   "execution_count": 12,
   "id": "7bd50d30",
   "metadata": {},
   "outputs": [
    {
     "name": "stdout",
     "output_type": "stream",
     "text": [
      "В  43.24 % случаев A > B. Должно получиться около 50%\n",
      "\n",
      "MannwhitneyuResult(statistic=43704947.5, pvalue=6.0376484617779035e-56)\n"
     ]
    }
   ],
   "source": [
    "# ВАРИАНТ 2 в Python\n",
    "# Манн Уитни\n",
    "\n",
    "A_gt_B = 0\n",
    "for _ in range(10000):\n",
    "    A_gt_B += df_ab[df_ab.exp_group == 2].ctr.sample().values[0] > df_ab[df_ab.exp_group == 1].ctr.sample().values[0]\n",
    "print('В ', A_gt_B / 100, '% случаев A > B. Должно получиться около 50%')\n",
    "\n",
    "print()\n",
    "\n",
    "print(stats.mannwhitneyu(df_ab[df_ab.exp_group == 2].ctr,\n",
    "                  df_ab[df_ab.exp_group == 1].ctr) )"
   ]
  },
  {
   "cell_type": "markdown",
   "id": "23e9484c",
   "metadata": {},
   "source": [
    "#### Вывод по результатам теста Манна Уитни\n",
    "В результате проведеннного теста Манна Уитни получила pvalue < 0.05, следовательно должны принять альтернативную гипотезу, которая говорит, о том, что средний ctr контрольной и тестовой групп не равны. <br> \n",
    "pvaluе < 0.05 говорит о том, что мы получили статистические значимые различия на уровне значимости α. "
   ]
  },
  {
   "cell_type": "markdown",
   "id": "e200577c",
   "metadata": {},
   "source": [
    "### Пуассоновский бутстреп для подсчета разницы в CTR"
   ]
  },
  {
   "cell_type": "code",
   "execution_count": 13,
   "id": "bfa1124f",
   "metadata": {},
   "outputs": [],
   "source": [
    "def bootstrap(likes1, views1, likes2, views2, n_bootstrap=2000):\n",
    "\n",
    "    poisson_bootstraps1 = stats.poisson(1).rvs(\n",
    "        (n_bootstrap, len(likes1))).astype(np.int64)\n",
    "\n",
    "    poisson_bootstraps2 = stats.poisson(1).rvs(\n",
    "            (n_bootstrap, len(likes2))).astype(np.int64)\n",
    "    \n",
    "    globalCTR1 = (poisson_bootstraps1*likes1).sum(axis=1)/(poisson_bootstraps1*views1).sum(axis=1)\n",
    "    \n",
    "    globalCTR2 = (poisson_bootstraps2*likes2).sum(axis=1)/(poisson_bootstraps2*views2).sum(axis=1)\n",
    "\n",
    "    return globalCTR1, globalCTR2\n"
   ]
  },
  {
   "cell_type": "code",
   "execution_count": 14,
   "id": "7636b055",
   "metadata": {},
   "outputs": [],
   "source": [
    "likes1 = df_ab[df_ab.exp_group == 1].likes.to_numpy()\n",
    "views1 = df_ab[df_ab.exp_group == 1].views.to_numpy()\n",
    "likes2 = df_ab[df_ab.exp_group == 2].likes.to_numpy()\n",
    "views2 = df_ab[df_ab.exp_group == 2].views.to_numpy()\n",
    "\n",
    "ctr1, ctr2 = bootstrap(likes1, views1, likes2, views2)"
   ]
  },
  {
   "cell_type": "code",
   "execution_count": 15,
   "id": "32b24f2d",
   "metadata": {},
   "outputs": [
    {
     "data": {
      "text/plain": [
       "<AxesSubplot:ylabel='Count'>"
      ]
     },
     "execution_count": 15,
     "metadata": {},
     "output_type": "execute_result"
    },
    {
     "data": {
      "image/png": "[encoded data removed]",
      "text/plain": [
       "<Figure size 864x648 with 1 Axes>"
      ]
     },
     "metadata": {},
     "output_type": "display_data"
    }
   ],
   "source": [
    "sns.histplot(ctr1, color = ['g']) # зеленым - ctr группы 1\n",
    "sns.histplot(ctr2, color = ['r']) # красным - ctr группы 2\n",
    "# глобальный CTR контрольной группы больше чем глобальный  CTR тестовой \n",
    "# и на графике глобальный CTR контрольной группы (зеленый) находится справа от глобального CTR тестовой группы (красный)\n",
    "# т.е. глобальный CTR контрольной группы больше глобального CTR тестовой группы"
   ]
  },
  {
   "cell_type": "code",
   "execution_count": 16,
   "id": "42fff109",
   "metadata": {},
   "outputs": [
    {
     "data": {
      "text/plain": [
       "<AxesSubplot:ylabel='Count'>"
      ]
     },
     "execution_count": 16,
     "metadata": {},
     "output_type": "execute_result"
    },
    {
     "data": {
      "image/png": "[encoded data removed]",
      "text/plain": [
       "<Figure size 864x648 with 1 Axes>"
      ]
     },
     "metadata": {},
     "output_type": "display_data"
    }
   ],
   "source": [
    "# разница между глобальными CTR\n",
    "sns.histplot(ctr1 - ctr2)\n",
    "# глобальный CTR контрольной группы - глобальный CTR тестовой группы \n",
    "# разница между глобальными CTR положительная, значиит глобальный CTR контрольной группы больше, \n",
    "# чем глобальный CTR тестовой"
   ]
  },
  {
   "cell_type": "markdown",
   "id": "d7f0c1b5",
   "metadata": {},
   "source": [
    "#### Вывод по результатам Пуассоновского бутстрепа для подсчета разницы в CTR\n",
    "Глобальный CTR контрольной группы больше, чем глобальный CTR тестовой группы. <br>\n",
    "Следовательно должны принять альтернативную гипотезу, которая говорит, о том, что средний ctr контрольной и тестовой групп не равны"
   ]
  },
  {
   "cell_type": "markdown",
   "id": "5ba223e5",
   "metadata": {},
   "source": [
    "### t-тест на сглаженном ctr (α=5)"
   ]
  },
  {
   "cell_type": "code",
   "execution_count": 17,
   "id": "2839e929",
   "metadata": {},
   "outputs": [],
   "source": [
    "# функция для подсчета сглаженнного CTR \n",
    "def get_smothed_ctr(user_likes, user_views, global_ctr, alpha):\n",
    "    smothed_ctr = (user_likes + alpha * global_ctr) / (user_views + alpha)\n",
    "    return smothed_ctr"
   ]
  },
  {
   "cell_type": "code",
   "execution_count": 18,
   "id": "27590653",
   "metadata": {},
   "outputs": [],
   "source": [
    "# считаю глобальный ctr для групп 1 и 2 \n",
    "global_ctr_1 = df_ab[df_ab.exp_group == 1].likes.sum() / df_ab[df_ab.exp_group == 1].views.sum()\n",
    "global_ctr_2 = df_ab[df_ab.exp_group == 2].likes.sum() / df_ab[df_ab.exp_group == 2].views.sum()"
   ]
  },
  {
   "cell_type": "code",
   "execution_count": 19,
   "id": "a8f3ca2e",
   "metadata": {},
   "outputs": [],
   "source": [
    "group1 = df_ab[df_ab.exp_group == 1].copy()  # датафрейм для графика ctr для контрольной группы № 1\n",
    "group2 = df_ab[df_ab.exp_group == 2].copy() # датафрейм для графика ctr для контрольной группы № 2"
   ]
  },
  {
   "cell_type": "code",
   "execution_count": 20,
   "id": "97c37cc0",
   "metadata": {},
   "outputs": [],
   "source": [
    "# считаю сглаженный ctr\n",
    "group1['smothed_ctr'] = df_ab.apply(\n",
    "                        lambda x: get_smothed_ctr(x['likes'], x['views'], global_ctr_1, 5), axis=1)\n",
    "\n",
    "group2['smothed_ctr'] = df_ab.apply(\n",
    "                        lambda x: get_smothed_ctr(x['likes'], x['views'], global_ctr_2, 5), axis=1)"
   ]
  },
  {
   "cell_type": "code",
   "execution_count": 21,
   "id": "f69098f4",
   "metadata": {},
   "outputs": [
    {
     "data": {
      "text/plain": [
       "<AxesSubplot:xlabel='ctr', ylabel='Count'>"
      ]
     },
     "execution_count": 21,
     "metadata": {},
     "output_type": "execute_result"
    },
    {
     "data": {
      "image/png": "[encoded data removed]",
      "text/plain": [
       "<Figure size 720x432 with 1 Axes>"
      ]
     },
     "metadata": {},
     "output_type": "display_data"
    }
   ],
   "source": [
    "# строю графики ctr для контрольной группы № 1 - зеленый, для тестовой №2 - красный \n",
    "sns.set(rc={'figure.figsize': (10, 6)})\n",
    "sns.histplot(group1.ctr, color = ['g']) # ctr для контрольной группы № 1\n",
    "sns.histplot(group2.ctr, color = ['r']) # ctr для контрольной группы № 2"
   ]
  },
  {
   "cell_type": "code",
   "execution_count": 22,
   "id": "47f860e6",
   "metadata": {},
   "outputs": [
    {
     "data": {
      "text/plain": [
       "<AxesSubplot:xlabel='smothed_ctr', ylabel='Count'>"
      ]
     },
     "execution_count": 22,
     "metadata": {},
     "output_type": "execute_result"
    },
    {
     "data": {
      "image/png": "[encoded data removed]",
      "text/plain": [
       "<Figure size 720x432 with 1 Axes>"
      ]
     },
     "metadata": {},
     "output_type": "display_data"
    }
   ],
   "source": [
    "# строю графики сглаженного ctr для контрольной группы № 1 - зеленый, для тестовой №2 - красный \n",
    "sns.set(rc={'figure.figsize': (10, 6)})\n",
    "sns.histplot(group1.smothed_ctr, color = ['g'], kde = True) # ctr для контрольной группы № 1\n",
    "sns.histplot(group2.smothed_ctr, color = ['r'], kde = True) # ctr для контрольной группы № 2        "
   ]
  },
  {
   "cell_type": "markdown",
   "id": "b03c99e6",
   "metadata": {},
   "source": [
    "График распределения сглаженного CTR немного сгладился.<br>\n",
    "Однако в целом графики распределения обычного CTR и сглаженного CTR похожи.<br>\n",
    "Распределение CTR тестовой группы имеет два горба. <br>\n",
    "Распределение CTR контрольной группы похоже на нормальное распределение.<br>"
   ]
  },
  {
   "cell_type": "code",
   "execution_count": 23,
   "id": "1b3d32be",
   "metadata": {},
   "outputs": [
    {
     "data": {
      "text/plain": [
       "Ttest_indResult(statistic=2.2841320431616983, pvalue=0.0223769815558559)"
      ]
     },
     "execution_count": 23,
     "metadata": {},
     "output_type": "execute_result"
    }
   ],
   "source": [
    "stats.ttest_ind(group1[group1.exp_group == 1].smothed_ctr, \n",
    "                group2[group2.exp_group == 2].smothed_ctr, \n",
    "                equal_var = False)"
   ]
  },
  {
   "cell_type": "markdown",
   "id": "b7102fad",
   "metadata": {},
   "source": [
    "#### Вывод по результатам t-тест на сглаженном ctr (α=5)\n",
    "В результате проведеннного t-теста  на сглаженном ctr (α=5) получила pvalue=0.0223769815558559.<br>\n",
    "При pvaluе < 0.05 мы должны принять альтернативную гипотезу, которая говорит, о том, что средний сглаженный ctr контрольной и тестовой не равны. <br> \n",
    "pvaluе < 0.05 говорит о том, что мы получили статистические значимые различия на уровне значимости α."
   ]
  },
  {
   "cell_type": "markdown",
   "id": "81f959bf",
   "metadata": {},
   "source": [
    "### t-тест и тест Манна-Уитни поверх бакетного преобразования"
   ]
  },
  {
   "cell_type": "code",
   "execution_count": 24,
   "id": "5978b5eb",
   "metadata": {},
   "outputs": [],
   "source": [
    "q = \"\"\"\n",
    "SELECT exp_group, bucket,\n",
    "    sum(likes)/sum(views) as bucket_ctr,\n",
    "    quantileExact(0.9)(ctr) as ctr9\n",
    "FROM (SELECT exp_group, \n",
    "        xxHash64(user_id)%50 as bucket,\n",
    "        user_id,\n",
    "        sum(action = 'like') as likes,\n",
    "        sum(action = 'view') as views,\n",
    "        likes/views as ctr\n",
    "    FROM {db}.feed_actions \n",
    "    WHERE toDate(time) BETWEEN '2022-10-03' and '2022-10-09'\n",
    "          AND exp_group IN (1, 2)\n",
    "    GROUP BY exp_group, bucket, user_id)\n",
    "GROUP BY exp_group, bucket\n",
    "\"\"\"\n",
    "\n",
    "df_ab_bucket = ph.read_clickhouse(q, connection=connection)"
   ]
  },
  {
   "cell_type": "code",
   "execution_count": 25,
   "id": "4ba7b203",
   "metadata": {},
   "outputs": [
    {
     "data": {
      "text/plain": [
       "MannwhitneyuResult(statistic=1995.0, pvalue=2.859963936492646e-07)"
      ]
     },
     "execution_count": 25,
     "metadata": {},
     "output_type": "execute_result"
    }
   ],
   "source": [
    "# тест Манна-Уитни видит отличие\n",
    "stats.mannwhitneyu(df_ab_bucket[df_ab_bucket.exp_group == 1].bucket_ctr, \n",
    "                   df_ab_bucket[df_ab_bucket.exp_group == 2].bucket_ctr, \n",
    "                   alternative = 'two-sided')"
   ]
  },
  {
   "cell_type": "code",
   "execution_count": 26,
   "id": "24267218",
   "metadata": {},
   "outputs": [
    {
     "data": {
      "text/plain": [
       "Ttest_indResult(statistic=5.668234732053979, pvalue=3.4455951649945907e-07)"
      ]
     },
     "execution_count": 26,
     "metadata": {},
     "output_type": "execute_result"
    }
   ],
   "source": [
    "#t-тест тоже видит отличие - pvalue < 0.05\n",
    "stats.ttest_ind(df_ab_bucket[df_ab_bucket.exp_group == 1].bucket_ctr, \n",
    "                   df_ab_bucket[df_ab_bucket.exp_group == 2].bucket_ctr, \n",
    "                   equal_var = False)"
   ]
  },
  {
   "cell_type": "code",
   "execution_count": 27,
   "id": "22896436",
   "metadata": {},
   "outputs": [
    {
     "data": {
      "text/plain": [
       "<AxesSubplot:xlabel='bucket_ctr', ylabel='Count'>"
      ]
     },
     "execution_count": 27,
     "metadata": {},
     "output_type": "execute_result"
    },
    {
     "data": {
      "image/png": "[encoded data removed]",
      "text/plain": [
       "<Figure size 720x432 with 1 Axes>"
      ]
     },
     "metadata": {},
     "output_type": "display_data"
    }
   ],
   "source": [
    "sns.histplot(df_ab_bucket[df_ab_bucket.exp_group == 1].bucket_ctr, color = 'red') # bucket_ctr контрольной группы № 1\n",
    "sns.histplot(df_ab_bucket[df_ab_bucket.exp_group == 2].bucket_ctr, color = 'green') # bucket_ctr тестовой группы № 2\n",
    "# на графике видно, что bucket_ctr контрольной группы пересекается с bucket_ctr тестовой группы, \n",
    "# но при этом находится в правом хвосте, т.е. средний bucket_ctr контрольной группы больше \n",
    "# также стоит заметить,что распределение bucket_ctr похоже на нормальное распределение"
   ]
  },
  {
   "cell_type": "code",
   "execution_count": 28,
   "id": "bbb1b956",
   "metadata": {},
   "outputs": [
    {
     "data": {
      "text/html": [
       "<div>\n",
       "<style scoped>\n",
       "    .dataframe tbody tr th:only-of-type {\n",
       "        vertical-align: middle;\n",
       "    }\n",
       "\n",
       "    .dataframe tbody tr th {\n",
       "        vertical-align: top;\n",
       "    }\n",
       "\n",
       "    .dataframe thead tr th {\n",
       "        text-align: left;\n",
       "    }\n",
       "</style>\n",
       "<table border=\"1\" class=\"dataframe\">\n",
       "  <thead>\n",
       "    <tr>\n",
       "      <th></th>\n",
       "      <th>exp_group</th>\n",
       "      <th colspan=\"2\" halign=\"left\">bucket_ctr</th>\n",
       "    </tr>\n",
       "    <tr>\n",
       "      <th></th>\n",
       "      <th></th>\n",
       "      <th>mean</th>\n",
       "      <th>median</th>\n",
       "    </tr>\n",
       "  </thead>\n",
       "  <tbody>\n",
       "    <tr>\n",
       "      <th>0</th>\n",
       "      <td>1</td>\n",
       "      <td>0.208122</td>\n",
       "      <td>0.208704</td>\n",
       "    </tr>\n",
       "    <tr>\n",
       "      <th>1</th>\n",
       "      <td>2</td>\n",
       "      <td>0.198259</td>\n",
       "      <td>0.196209</td>\n",
       "    </tr>\n",
       "  </tbody>\n",
       "</table>\n",
       "</div>"
      ],
      "text/plain": [
       "  exp_group bucket_ctr          \n",
       "                  mean    median\n",
       "0         1   0.208122  0.208704\n",
       "1         2   0.198259  0.196209"
      ]
     },
     "execution_count": 28,
     "metadata": {},
     "output_type": "execute_result"
    }
   ],
   "source": [
    "#рассчитываю среднее значение и медиану bucket_ctr\n",
    "# среднее и медиану bucket_ctr контрольной группы больше\n",
    "df_ab_bucket.groupby('exp_group', as_index = False).agg({'bucket_ctr': ['mean', 'median']})"
   ]
  },
  {
   "cell_type": "markdown",
   "id": "3f028d40",
   "metadata": {},
   "source": [
    "#### Вывод по результатам t-теста и теста Манна-Уитни поверх бакетного преобразования\n",
    "В результате проведеннных t-теста и теста Манна-Уитни поверх бакетного преобразования получила pvalue < 0.05, т.е. получила статистические значимые отклонение. <br>\n",
    "При таком pvalue должна сделать вывод, что средние значения CTR двух выборок различаются и есть все основания принять альтернативную гипотезу.<br>"
   ]
  },
  {
   "cell_type": "markdown",
   "id": "7a409ac2-d156-409a-9995-0ce3f5ad69df",
   "metadata": {},
   "source": [
    "## Вывод по результатам задания 5.2.2\n",
    "\n",
    "Из-за того, что распределение CTR в тестовой группе имеет два горба, тесты, которые были применены для анализа результатов AB-теста, дали разные результаты. <br>\n",
    "* В классическом t-test мы получили pvalue > 0.05 поэтому у нас нет оснований отклонить нулевую гипотезу о равенстве средних значений двух выборок. <br>\n",
    "* По результатам остальных тестов получили pvalue < 0.05, что говорит о том, что мы получили статистически значимые различия, и нужно принять альтернативную гипотезу о том, что средние двух выборок не равны. <br>\n",
    " <br> \n",
    " \n",
    "Чтобы принять решение, раскатывать новый алгоритм на всех пользователей, посмотрим на меры центральной тенденции двух выборок.<br> \n",
    "Из-за того, что распределение признака (CTR) в тестовой группе имеет два горба, среднее значение и медиана в тестовой группе значительно отличается. При этом отличий между модой/медианой/средним в контрольной группе почти нет.<br>\n",
    "Поэтому считаю, что для интерпретации результатов тестов вместо среднего значения лучше использовать значение медианы.  Поскольку значение медианого ctr контрольной группы больше медианого сtr тестовой группы, \n",
    "##### моя рекомендация НЕ раскатывать новый алгоритм на всех новых пользователей.\n"
   ]
  },
  {
   "cell_type": "markdown",
   "id": "8236858d",
   "metadata": {},
   "source": [
    "### Доверительный интервал в качестве альтернативы проверки гипотез   \n",
    "Если предполагаемая медиана тестовой выборки не будет принадлежать 95% доверительному интервалу рассчитанному по выборочным данным контрольной выборки, то у нас будет достаточно оснований отклонить H0"
   ]
  },
  {
   "cell_type": "code",
   "execution_count": 29,
   "id": "eaef10af",
   "metadata": {},
   "outputs": [
    {
     "name": "stdout",
     "output_type": "stream",
     "text": [
      "                       Mx       SD         M        N        SE  interval  \\\n",
      "Выборка_control  0.215605  0.08416  0.203125  10079.0  0.000838  0.001643   \n",
      "Выборка_test     0.214419  0.14418  0.142857   9952.0  0.001445  0.002833   \n",
      "\n",
      "                 interval_median     int_1     int_2  median_int_1  \\\n",
      "Выборка_control         0.001643  0.213961  0.217248      0.201482   \n",
      "Выборка_test            0.002833  0.211586  0.217252      0.140024   \n",
      "\n",
      "                 median_int_2  \n",
      "Выборка_control      0.204768  \n",
      "Выборка_test         0.145690  \n"
     ]
    },
    {
     "data": {
      "image/png": "[encoded data removed]",
      "text/plain": [
       "<Figure size 1296x360 with 3 Axes>"
      ]
     },
     "metadata": {},
     "output_type": "display_data"
    }
   ],
   "source": [
    "array1 = df_ab[df_ab.exp_group == 1].ctr\n",
    "array2 = df_ab[df_ab.exp_group == 2].ctr\n",
    "\n",
    "# считаем количество элементов, среднее, стандартное отклонение и стандартную ошибку\n",
    "df = pd.DataFrame({'Выборка_control':array1, 'Выборка_test':array2}).agg(['mean','std','median', 'count','sem']).transpose()\n",
    "df.columns = ['Mx','SD', 'M' ,'N','SE']\n",
    "\n",
    "# рассчитываем 95% интервал отклонения среднего\n",
    "p = 0.95\n",
    "K = t.ppf((1 + p)/2, df['N']-1) \n",
    "#K - половина интервала (в относительных единицах по отношению к СКО), в котором содержится p (в данном случае 95%) \n",
    "#всех значений для распределения Стьюдента с соответствующей степенью свободы.\n",
    "df['interval'] = K * df['SE'] \n",
    "df['interval_median'] = K * df['SE'] \n",
    "\n",
    "#добавляет ещё один столбец (собственно доверит. интервалы уже в абсолютных единицах) в исходный датафрейм df.\n",
    "df['int_1'] =  df['Mx'] - df['interval'] \n",
    "df['int_2'] =  df['Mx'] + df['interval']\n",
    "\n",
    "#добавляет ещё один столбец (собственно доверит. интервалы уже в абсолютных единицах) для МЕДИАНЫ в исходный датафрейм df.\n",
    "df['median_int_1'] =  df['M'] - df['interval_median'] \n",
    "df['median_int_2'] =  df['M'] + df['interval_median'] \n",
    "\n",
    "#строим графики, boxplot из изначальных данных array1, array2,  доверительные интервалы из датафрейма df\n",
    "fig, (ax1, ax2, ax3 ) = plt.subplots(nrows=1, ncols=3, figsize=(18, 5))\n",
    "\n",
    "# график boxplot\n",
    "bplot1 = ax1.boxplot([array1, array2],\n",
    "                     vert=True,  # создаем вертикальные боксы\n",
    "                     patch_artist=True, # для красоты заполним цветом боксы квантилей\n",
    "                     labels=['Выборка_control', 'Выборка_test']) \n",
    "                    # используется для задания значений выборок в случае с boxplot\n",
    "\n",
    "# график доверительных интервалов для СРЕДНИХ\n",
    "bplot2 = ax2.errorbar(x=df.index, y=df['Mx'], yerr=df['interval'],\\\n",
    "                      color=\"black\", capsize=3, marker=\"s\", markersize=4, mfc=\"red\", mec=\"black\", fmt ='o')\n",
    "\n",
    "# график доверительных интервалов для МЕДИАН\n",
    "bplot3 = ax3.errorbar(x=df.index, y=df['M'], yerr=df['interval_median'],\\\n",
    "                      color=\"black\", capsize=3, marker=\"s\", markersize=4, mfc=\"red\", mec=\"black\", fmt ='o')\n",
    "\n",
    "# раскрасим boxplot  \n",
    "colors = ['pink', 'lightgreen']\n",
    "for patch, color in zip(bplot1['boxes'], colors):\n",
    "    patch.set_facecolor(color)\n",
    "\n",
    "\n",
    "ax1.yaxis.grid(True)\n",
    "ax1.set_title(''+ 'СTR')\n",
    "ax1.set_xlabel('Сравнение выборок 1 и 2')\n",
    "ax1.set_ylabel(''+ 'CTR')    \n",
    "    \n",
    "    \n",
    "ax2.yaxis.grid(True)\n",
    "ax2.set_title(''+ 'средний СTR')\n",
    "ax2.set_xlabel('Доверительный иинтервал средних СTR для выборок 1 и 2')\n",
    "ax2.set_ylabel(''+ 'средний CTR')    \n",
    "\n",
    "ax3.yaxis.grid(True)\n",
    "ax3.set_title(''+ 'медиана СTR')\n",
    "ax3.set_xlabel('Доверительный иинтервал медианы СTR для выборок 1 и2')\n",
    "ax3.set_ylabel(''+ 'медиана CTR')\n",
    "    \n",
    "    \n",
    "print(df)    \n",
    "plt.show()"
   ]
  },
  {
   "cell_type": "markdown",
   "id": "03be09a3",
   "metadata": {},
   "source": [
    "#### Вывод \n",
    "в качестве альтернативы проверки гипотез также расчитала 95% доверительный интервал для средних и медианных значений CTR. \n",
    "##### Доверительные интервалы для медианных значений CTR тестовой и контрольной групп не пересекаются,  что также подтверждает сделанный вывод о том, что алгоритм не привел к повышению CTR в тестовой группе. Наоборот CTR тестовой группы уменьшился. Следовательно, новый алгоритм НЕ нужно  раскатывать на всех пользователей. \n",
    "Причины использования медианного значения те же, что описаны при интерпретации статтестов."
   ]
  },
  {
   "cell_type": "markdown",
   "id": "edfbb470",
   "metadata": {},
   "source": [
    "## 5.2.3 Опишите потенциальную ситуацию, когда такое изменение могло произойти.\n",
    "<br>\n",
    "1. Новый алгоритмов рекомендации постов, разработанный командой дата сайентистов, работает некорректно - т.е. рекомендует посты, которые не интересны части аудитории. <br>\n",
    "Поскольку на графике наблюдаем самый большой первый пик с низким ctr и большой частотностью, т.е. очень много людей переходят на посты, но не лайкают их.<br><br>\n",
    "2. Содержание рекомендуемых постов не соответствует ожиданиям людей, которые на них переходят (например, заголовок заинтересовал, поэтому много переходов на пост = просмотров), но люди не ставят лайки.<br><br>\n",
    "3. Возможно скупая на лайки аудитория. Т.е. независимо от количества просмотренных постов люди ставят мало лайков. Т.е. если даже количество просмотренных постов увеличивается, люди забывают/ не хотят/ или по какой-то иной причине ставят мало лайков.<br><br>\n",
    "4. Следующие рекомендации постов привлекали внимание людей и они сразу переходили на новый пост, забывая при этом ставить лайки просмотренным. <br><br>\n",
    "5.  Наличие причин, вызывающих разброс значений исследуемого параметра (CTR), которые привели к двумодальному распределению в тестовой группе. В этом случае можно провести расслоение и исследовать причины различий (например, по признакам пользователей: страна, город, пол и т.д.) и принять соответствующие меры для их устранения.<br><br>\n",
    "\n",
    "Техническую причину, что у части людей, которые ставили мало лайков не работала эта кнопка или ее не было - не рассматривем. Считаю, что у всех были одинаковые условия.\n",
    "\n",
    "##### Также считаю, что дополнительно необходимо исследовать пользователей тестовой группы, разбив на 2 подвыборки (поскольку 2 горба у распределения CTR), чтобы найти причины такого поведения."
   ]
  },
  {
   "cell_type": "code",
   "execution_count": null,
   "id": "8061a851",
   "metadata": {},
   "outputs": [],
   "source": []
  }
 ],
 "metadata": {
  "kernelspec": {
   "display_name": "Python 3 (ipykernel)",
   "language": "python",
   "name": "python3"
  },
  "language_info": {
   "codemirror_mode": {
    "name": "ipython",
    "version": 3
   },
   "file_extension": ".py",
   "mimetype": "text/x-python",
   "name": "python",
   "nbconvert_exporter": "python",
   "pygments_lexer": "ipython3",
   "version": "3.9.13"
  }
 },
 "nbformat": 4,
 "nbformat_minor": 5
}
