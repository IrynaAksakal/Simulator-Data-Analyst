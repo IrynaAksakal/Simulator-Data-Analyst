{
 "cells": [
  {
   "cell_type": "markdown",
   "id": "12540892",
   "metadata": {},
   "source": [
    "## 5.3 Задача - проверить метод анализа тестов над метриками-отношениями (linearized_likes)\n",
    "\n",
    "\n",
    "У нас параллельно идут два теста.<br>\n",
    "ПЕРВЫЙ:\n",
    "* exp_group = 1 - Все по-старому\n",
    "* exp_group = 2 - Рекомендации \"похожих на лайкнутые постов\"\n",
    "\n",
    "ВТОРОЙ:\n",
    "* exp_group = 0 – Все по-старому\n",
    "* exp_group = 3 - Рекомендации \"постов, которые лайкали похожие на вас люди\"\n",
    "\n",
    "### Задача\n",
    "1. Проанализируйте тест между группами 0 и 3 по метрике линеаризованных лайков. Видно ли отличие? Стало ли 𝑝−𝑣𝑎𝑙𝑢𝑒 меньше?<br>\n",
    "2. Проанализируйте тест между группами 1 и 2 по метрике линеаризованных лайков. Видно ли отличие? Стало ли 𝑝−𝑣𝑎𝑙𝑢𝑒 меньше?<br>"
   ]
  },
  {
   "cell_type": "markdown",
   "id": "96c2ac71-0f86-47d1-8231-59e84389b611",
   "metadata": {},
   "source": [
    "B 2018-м году исследователи из Яндекса разработали метод анализа тестов над метриками-отношениями.  <br>\n",
    "##### Идея метода заключается в следующем: <br>     \n",
    "Вместо того, чтобы заталкивать в тест «поюзерные» CTR, можно сконструировать другую метрику и анализировать ее, но при этом гарантируется (в отличие от сглаженного CTR), что если тест на этой другой метрике «прокрасится» и увидит изменения, значит изменения есть и в метрике исходной (то есть в лайках на пользователя и в пользовательских CTR<br>\n",
    "1. Считаем общий CTR в контрольной группе: 𝐶𝑇𝑅𝑐𝑜𝑛𝑡𝑟𝑜𝑙 = 𝑠𝑢𝑚(𝑙𝑖𝑘𝑒𝑠) / 𝑠𝑢𝑚(𝑣𝑖𝑒𝑤𝑠) <br>\n",
    "2. Посчитаем в обеих группах поюзерную метрику  𝑙𝑖𝑛𝑒𝑎𝑟𝑖𝑧𝑒𝑑_𝑙𝑖𝑘𝑒𝑠 = 𝑙𝑖𝑘𝑒𝑠 − 𝐶𝑇𝑅𝑐𝑜𝑛𝑡𝑟𝑜𝑙 ∗ 𝑣𝑖𝑒𝑤𝑠 <br>\n",
    "3. После чего сравним  t-тестом отличия в группах по метрике 𝑙𝑖𝑛𝑒𝑎𝑟𝑖𝑧𝑒𝑑_𝑙𝑖𝑘𝑒𝑠  <br>\n",
    "\n",
    "Метод простой, гарантируется, что при приличном размере выборки (как у нас — подойдет) можно бесплатно увеличить чувствительность вашей метрики (или, по крайней мере, не сделать хуже).<br>"
   ]
  },
  {
   "cell_type": "code",
   "execution_count": null,
   "id": "c201ea79-687b-4ea4-b156-67d57b73d37e",
   "metadata": {},
   "outputs": [],
   "source": [
    "import pandahouse as ph\n",
    "import pandas as pd\n",
    "import numpy as np\n",
    "import seaborn as sns\n",
    "\n",
    "from scipy import stats\n",
    "\n",
    "#для расчета доверительного интервала sms.DescrStatsW(df_group[column]).tconfint_mean()\n",
    "import statsmodels.stats.api as sms \n",
    "import matplotlib.pyplot as plt\n",
    "from scipy.stats import t\n",
    "\n",
    "import warnings # игнорирую предупреждения системы об грядущих изменениях\n",
    "warnings.simplefilter('ignore')"
   ]
  },
  {
   "cell_type": "code",
   "execution_count": 3,
   "id": "f9e7031c-ba4c-4f94-b6a9-cfdff51eb6f3",
   "metadata": {},
   "outputs": [],
   "source": [
    "connection = {'host': 'https://clickhouse.lab.karpov.courses',\n",
    "              'database':'simulator_20221020',\n",
    "              'user':'student', \n",
    "              'password':'dpo_python_2020'\n",
    "             }"
   ]
  },
  {
   "cell_type": "code",
   "execution_count": 4,
   "id": "eb5fdd36",
   "metadata": {},
   "outputs": [],
   "source": [
    "# выгружаю данные из clickhouse в датафрейм\n",
    "q = '''\n",
    "SELECT  exp_group, \n",
    "        user_id,\n",
    "        sum(action = 'like') as likes,\n",
    "        sum(action = 'view') as views,\n",
    "        (likes / views) as ctr\n",
    "FROM {db}.feed_actions\n",
    "WHERE toDate(time) BETWEEN '2022-10-03' and '2022-10-09'\n",
    "    AND exp_group in (0,1,2,3)\n",
    "GROUP BY exp_group, user_id      \n",
    "'''\n",
    "\n",
    "df_new_metric = ph.read_clickhouse(q, connection = connection)"
   ]
  },
  {
   "cell_type": "code",
   "execution_count": 5,
   "id": "de78308f",
   "metadata": {},
   "outputs": [
    {
     "data": {
      "text/html": [
       "<div>\n",
       "<style scoped>\n",
       "    .dataframe tbody tr th:only-of-type {\n",
       "        vertical-align: middle;\n",
       "    }\n",
       "\n",
       "    .dataframe tbody tr th {\n",
       "        vertical-align: top;\n",
       "    }\n",
       "\n",
       "    .dataframe thead th {\n",
       "        text-align: right;\n",
       "    }\n",
       "</style>\n",
       "<table border=\"1\" class=\"dataframe\">\n",
       "  <thead>\n",
       "    <tr style=\"text-align: right;\">\n",
       "      <th></th>\n",
       "      <th>exp_group</th>\n",
       "      <th>user_id</th>\n",
       "      <th>likes</th>\n",
       "      <th>views</th>\n",
       "      <th>ctr</th>\n",
       "    </tr>\n",
       "  </thead>\n",
       "  <tbody>\n",
       "    <tr>\n",
       "      <th>0</th>\n",
       "      <td>0</td>\n",
       "      <td>9999</td>\n",
       "      <td>9999</td>\n",
       "      <td>9999</td>\n",
       "      <td>9999</td>\n",
       "    </tr>\n",
       "    <tr>\n",
       "      <th>1</th>\n",
       "      <td>1</td>\n",
       "      <td>10079</td>\n",
       "      <td>10079</td>\n",
       "      <td>10079</td>\n",
       "      <td>10079</td>\n",
       "    </tr>\n",
       "    <tr>\n",
       "      <th>2</th>\n",
       "      <td>2</td>\n",
       "      <td>9952</td>\n",
       "      <td>9952</td>\n",
       "      <td>9952</td>\n",
       "      <td>9952</td>\n",
       "    </tr>\n",
       "    <tr>\n",
       "      <th>3</th>\n",
       "      <td>3</td>\n",
       "      <td>10049</td>\n",
       "      <td>10049</td>\n",
       "      <td>10049</td>\n",
       "      <td>10049</td>\n",
       "    </tr>\n",
       "  </tbody>\n",
       "</table>\n",
       "</div>"
      ],
      "text/plain": [
       "   exp_group  user_id  likes  views    ctr\n",
       "0          0     9999   9999   9999   9999\n",
       "1          1    10079  10079  10079  10079\n",
       "2          2     9952   9952   9952   9952\n",
       "3          3    10049  10049  10049  10049"
      ]
     },
     "execution_count": 5,
     "metadata": {},
     "output_type": "execute_result"
    }
   ],
   "source": [
    "df_new_metric.groupby('exp_group', as_index = False).count()\n",
    "#количество юзеров в каждой выборки приблизительно одинаковое"
   ]
  },
  {
   "cell_type": "code",
   "execution_count": 6,
   "id": "e1defbb6",
   "metadata": {},
   "outputs": [
    {
     "name": "stdout",
     "output_type": "stream",
     "text": [
      "Всего пользователей в 4 группах группах:  40079\n",
      "\n"
     ]
    },
    {
     "data": {
      "text/plain": [
       "exp_group\n",
       "1    40079\n",
       "Name: user_id, dtype: int64"
      ]
     },
     "execution_count": 6,
     "metadata": {},
     "output_type": "execute_result"
    }
   ],
   "source": [
    "# проверяю, чтобы один и тот же id не попал в разные группы \n",
    "\n",
    "print('Всего пользователей в 4 группах группах: ', df_new_metric.user_id.count())\n",
    "print()\n",
    "df_new_metric.uniq = df_new_metric.groupby('user_id')['exp_group'].nunique().reset_index()\n",
    "df_new_metric.uniq.groupby('exp_group').user_id.count()\n",
    "\n",
    "# каждый id попал только в 1 группу"
   ]
  },
  {
   "cell_type": "code",
   "execution_count": 7,
   "id": "e3b327c4",
   "metadata": {},
   "outputs": [],
   "source": [
    "#создала функцию для подсчета новой поюзерной метрики linearized_likes = 𝑙𝑖𝑘𝑒𝑠 − 𝐶𝑇𝑅𝑐𝑜𝑛𝑡𝑟𝑜𝑙 ∗ 𝑣𝑖𝑒𝑤𝑠\n",
    "\n",
    "def get_linearized_likes(user_likes, user_views, ctr_control):\n",
    "    linearized_likes = user_likes - ctr_control * user_views\n",
    "    return linearized_likes"
   ]
  },
  {
   "cell_type": "code",
   "execution_count": 8,
   "id": "00b9fc93",
   "metadata": {},
   "outputs": [],
   "source": [
    "# Считаем общий CTR в каждой группе\n",
    "ctr_control_0 = df_new_metric[df_new_metric.exp_group == 0].likes.sum() / \\\n",
    "              df_new_metric[df_new_metric.exp_group == 0].views.sum()\n",
    "\n",
    "ctr_control_1 = df_new_metric[df_new_metric.exp_group == 1].likes.sum() / \\\n",
    "              df_new_metric[df_new_metric.exp_group == 1].views.sum()\n",
    "\n",
    "ctr_control_2 = df_new_metric[df_new_metric.exp_group == 2].likes.sum() / \\\n",
    "              df_new_metric[df_new_metric.exp_group == 2].views.sum()\n",
    "\n",
    "ctr_control_3 = df_new_metric[df_new_metric.exp_group == 3].likes.sum() / \\\n",
    "              df_new_metric[df_new_metric.exp_group == 3].views.sum()"
   ]
  },
  {
   "cell_type": "code",
   "execution_count": 21,
   "id": "422c63f0",
   "metadata": {},
   "outputs": [
    {
     "data": {
      "text/plain": [
       "(0.20823612262916305,\n",
       " 0.20802680490126244,\n",
       " 0.1980601844115994,\n",
       " 0.22429590071006622)"
      ]
     },
     "execution_count": 21,
     "metadata": {},
     "output_type": "execute_result"
    }
   ],
   "source": [
    "# общий CTR в каждой группе\n",
    "ctr_control_0, ctr_control_1, ctr_control_2, ctr_control_3"
   ]
  },
  {
   "cell_type": "code",
   "execution_count": 22,
   "id": "9f00e3d6",
   "metadata": {},
   "outputs": [],
   "source": [
    "# создала новые датафреймы по группам, чтобы потом посчитать в них поюзерную метрику linearized_likes\n",
    "group_0 = df_new_metric[df_new_metric.exp_group == 0].copy()\n",
    "group_1 = df_new_metric[df_new_metric.exp_group == 1].copy()\n",
    "group_2 = df_new_metric[df_new_metric.exp_group == 2].copy()\n",
    "group_3 = df_new_metric[df_new_metric.exp_group == 3].copy()"
   ]
  },
  {
   "cell_type": "code",
   "execution_count": 11,
   "id": "506b62ff",
   "metadata": {},
   "outputs": [],
   "source": [
    "# рассчитываю поюзерную метрику linearized_likes для каждой группы\n",
    "group_0['linearized_likes'] = group_0.apply(lambda x: get_linearized_likes(x['likes'], x['views'], ctr_control_0), axis=1)\n",
    "group_1['linearized_likes'] = group_1.apply(lambda x: get_linearized_likes(x['likes'], x['views'], ctr_control_0), axis=1)\n",
    "group_2['linearized_likes'] = group_2.apply(lambda x: get_linearized_likes(x['likes'], x['views'], ctr_control_0), axis=1)\n",
    "group_3['linearized_likes'] = group_3.apply(lambda x: get_linearized_likes(x['likes'], x['views'], ctr_control_0), axis=1)"
   ]
  },
  {
   "cell_type": "code",
   "execution_count": 12,
   "id": "41697350",
   "metadata": {},
   "outputs": [
    {
     "data": {
      "text/plain": [
       "Ttest_indResult(statistic=-13.896870721904069, pvalue=1.055849414662529e-43)"
      ]
     },
     "execution_count": 12,
     "metadata": {},
     "output_type": "execute_result"
    }
   ],
   "source": [
    "# сравниваю t-тестом отличия в группах по метрике ctr\n",
    "# между группами 0 и 3 \n",
    "stats.ttest_ind(df_new_metric[df_new_metric.exp_group == 0].ctr,\n",
    "               df_new_metric[df_new_metric.exp_group == 3].ctr,\n",
    "               equal_var = False)"
   ]
  },
  {
   "cell_type": "code",
   "execution_count": 13,
   "id": "240bf10e",
   "metadata": {},
   "outputs": [
    {
     "data": {
      "text/plain": [
       "Ttest_indResult(statistic=-15.214995460903827, pvalue=5.4914249479690016e-52)"
      ]
     },
     "execution_count": 13,
     "metadata": {},
     "output_type": "execute_result"
    }
   ],
   "source": [
    "# сравниваю t-тестом отличия в группах по метрике linearized_likes\n",
    "# между группами 0 и 3 по метрике линеаризованных лайков\n",
    "#pvalue стало намного меньше\n",
    "stats.ttest_ind( group_0.linearized_likes,\n",
    "               group_3.linearized_likes,\n",
    "               equal_var = False)"
   ]
  },
  {
   "cell_type": "code",
   "execution_count": 14,
   "id": "955c2b7f",
   "metadata": {},
   "outputs": [
    {
     "data": {
      "text/plain": [
       "<AxesSubplot:xlabel='ctr', ylabel='Density'>"
      ]
     },
     "execution_count": 14,
     "metadata": {},
     "output_type": "execute_result"
    },
    {
     "data": {
      "image/png": "[encoded data removed]",
      "text/plain": [
       "<Figure size 432x288 with 1 Axes>"
      ]
     },
     "metadata": {
      "needs_background": "light"
     },
     "output_type": "display_data"
    }
   ],
   "source": [
    "# строю график ctr для групп 0 и 3 \n",
    "# распределения похожи на нормальное\n",
    "sns.distplot(df_new_metric[df_new_metric.exp_group == 0].ctr, color= 'red')\n",
    "sns.distplot(df_new_metric[df_new_metric.exp_group == 3].ctr, color= 'green')"
   ]
  },
  {
   "cell_type": "code",
   "execution_count": 15,
   "id": "7354ac9f",
   "metadata": {},
   "outputs": [
    {
     "data": {
      "text/plain": [
       "<AxesSubplot:xlabel='linearized_likes', ylabel='Density'>"
      ]
     },
     "execution_count": 15,
     "metadata": {},
     "output_type": "execute_result"
    },
    {
     "data": {
      "image/png": "[encoded data removed]",
      "text/plain": [
       "<Figure size 432x288 with 1 Axes>"
      ]
     },
     "metadata": {
      "needs_background": "light"
     },
     "output_type": "display_data"
    }
   ],
   "source": [
    "# строю график по метрике linearized_likes для групп 0 и 3 \n",
    "# распределения похожи на нормальное\n",
    "sns.distplot(group_0.linearized_likes, color= 'red')\n",
    "sns.distplot(group_3.linearized_likes, color= 'green')"
   ]
  },
  {
   "cell_type": "code",
   "execution_count": 16,
   "id": "1458d045",
   "metadata": {},
   "outputs": [
    {
     "data": {
      "text/plain": [
       "Ttest_indResult(statistic=0.7094392041270485, pvalue=0.4780623130874935)"
      ]
     },
     "execution_count": 16,
     "metadata": {},
     "output_type": "execute_result"
    }
   ],
   "source": [
    "# сравниваю t-тестом отличия в группах по метрике ctr\n",
    "# между группами 1 и 2 \n",
    "# pvalue > 0.05\n",
    "stats.ttest_ind(df_new_metric[df_new_metric.exp_group == 1].ctr,\n",
    "               df_new_metric[df_new_metric.exp_group == 2].ctr,\n",
    "               equal_var = False)"
   ]
  },
  {
   "cell_type": "code",
   "execution_count": 17,
   "id": "1de95dc9",
   "metadata": {},
   "outputs": [
    {
     "data": {
      "text/plain": [
       "Ttest_indResult(statistic=6.1208039704412, pvalue=9.544973454280379e-10)"
      ]
     },
     "execution_count": 17,
     "metadata": {},
     "output_type": "execute_result"
    }
   ],
   "source": [
    "# сравниваю t-тестом отличия в группах по метрике linearized_likes\n",
    "# между группами 1 и 2 по метрике линеаризованных лайков\n",
    "# pvalue изменился и стал < 0.05\n",
    "stats.ttest_ind(group_1.linearized_likes,\n",
    "               group_2.linearized_likes,\n",
    "               equal_var = False)"
   ]
  },
  {
   "cell_type": "code",
   "execution_count": 18,
   "id": "baca9881",
   "metadata": {},
   "outputs": [
    {
     "data": {
      "text/plain": [
       "<AxesSubplot:xlabel='ctr', ylabel='Density'>"
      ]
     },
     "execution_count": 18,
     "metadata": {},
     "output_type": "execute_result"
    },
    {
     "data": {
      "image/png": "[encoded data removed]",
      "text/plain": [
       "<Figure size 432x288 with 1 Axes>"
      ]
     },
     "metadata": {
      "needs_background": "light"
     },
     "output_type": "display_data"
    }
   ],
   "source": [
    "# строю график ctr для групп 1 и 2 \n",
    "sns.distplot(df_new_metric[df_new_metric.exp_group == 1].ctr, color= 'red')\n",
    "sns.distplot(df_new_metric[df_new_metric.exp_group == 2].ctr, color= 'green')"
   ]
  },
  {
   "cell_type": "code",
   "execution_count": 19,
   "id": "bf12fa49",
   "metadata": {},
   "outputs": [
    {
     "data": {
      "text/plain": [
       "<AxesSubplot:xlabel='linearized_likes', ylabel='Density'>"
      ]
     },
     "execution_count": 19,
     "metadata": {},
     "output_type": "execute_result"
    },
    {
     "data": {
      "image/png": "[encoded data removed]",
      "text/plain": [
       "<Figure size 432x288 with 1 Axes>"
      ]
     },
     "metadata": {
      "needs_background": "light"
     },
     "output_type": "display_data"
    }
   ],
   "source": [
    "# строю график по метрике linearized_likes для групп 1 и 2 \n",
    "sns.distplot(group_1.linearized_likes, color= 'red')\n",
    "sns.distplot(group_2.linearized_likes, color= 'green')"
   ]
  },
  {
   "cell_type": "code",
   "execution_count": 20,
   "id": "d4b690ae",
   "metadata": {},
   "outputs": [],
   "source": [
    "# group_2.linearized_likes.describe()"
   ]
  },
  {
   "cell_type": "markdown",
   "id": "c9609660",
   "metadata": {},
   "source": [
    "### Вывод\n",
    "1. С помощью t-теста были проанализированы метрики между группами 0 и 3: ctr и метрика линеаризованных лайков. \n",
    "* для CTR - pvalue изначально был < 0.05 <br>\n",
    "* для метрики linearized_likes -pvalue < 0.05-  pvalue стал еще меньше, чем рассчитанный для CTR <br>\n",
    "\n",
    "По результатам t-теста pvalue новой метрики linearized_likes стал намного меньше.<br>\n",
    "Также на графике видим, что новая метрика linearized_likes имеет больший размах <br><br>\n",
    "\n",
    "\n",
    "2. С помощью t-теста были проанализированы метрики между группами 1 и 2: ctr и метрика линеаризованных лайков. \n",
    "* для CTR - pvalue > 0.05 <br>\n",
    "* для метрики linearized_likes - pvalue < 0.05 <br>\n",
    "\n",
    "По результатам t-теста pvalue новой метрики linearized_likes стал намного меньше и стал менее 0.05.<br>\n",
    "Также на графике видим, что новая метрика linearized_likes имеет больший размах. \n",
    "Кроме того, на графике видим, что распределение новой метрики, рассчитанное для тестовой группы 2 все также имеет 2 пика, однако просадка между пиками стала менее выражена. <br>\n",
    "\n",
    "\n",
    "#### Линеаризация метрики привела к уменьшению pvalue в обоих тестах. По результатам обоих экспериментов, следует отвергнуть нулевую гипотезу и принять альтернативную.\n"
   ]
  }
 ],
 "metadata": {
  "kernelspec": {
   "display_name": "Python 3 (ipykernel)",
   "language": "python",
   "name": "python3"
  },
  "language_info": {
   "codemirror_mode": {
    "name": "ipython",
    "version": 3
   },
   "file_extension": ".py",
   "mimetype": "text/x-python",
   "name": "python",
   "nbconvert_exporter": "python",
   "pygments_lexer": "ipython3",
   "version": "3.9.13"
  }
 },
 "nbformat": 4,
 "nbformat_minor": 5
}
